{
  "nbformat": 4,
  "nbformat_minor": 0,
  "metadata": {
    "colab": {
      "provenance": [],
      "collapsed_sections": [
        "VAhtTpHszNte",
        "ADnSpSK7zPsg",
        "hMNaOVmQiNOH",
        "Viki6LyuJZtJ",
        "VzvsykhJRU9S",
        "uJSw0RvLSgb-",
        "I2n9dKwImcAM",
        "CSxPdIpWjVkD",
        "7U8YJNsNszLg"
      ],
      "toc_visible": true
    },
    "kernelspec": {
      "name": "python3",
      "display_name": "Python 3"
    },
    "language_info": {
      "name": "python"
    }
  },
  "cells": [
    {
      "cell_type": "markdown",
      "source": [
        "# Import Library"
      ],
      "metadata": {
        "id": "Cb5IpoUZ-EmF"
      }
    },
    {
      "cell_type": "code",
      "execution_count": null,
      "metadata": {
        "colab": {
          "base_uri": "https://localhost:8080/"
        },
        "id": "hZYGSLbM6kpI",
        "outputId": "22cda8e9-c4d8-49b4-e242-92d242ead2b0"
      },
      "outputs": [
        {
          "output_type": "stream",
          "name": "stdout",
          "text": [
            "Looking in indexes: https://pypi.org/simple, https://us-python.pkg.dev/colab-wheels/public/simple/\n",
            "Requirement already satisfied: kaggle in /usr/local/lib/python3.7/dist-packages (1.5.12)\n",
            "Requirement already satisfied: six>=1.10 in /usr/local/lib/python3.7/dist-packages (from kaggle) (1.15.0)\n",
            "Requirement already satisfied: python-dateutil in /usr/local/lib/python3.7/dist-packages (from kaggle) (2.8.2)\n",
            "Requirement already satisfied: urllib3 in /usr/local/lib/python3.7/dist-packages (from kaggle) (1.24.3)\n",
            "Requirement already satisfied: tqdm in /usr/local/lib/python3.7/dist-packages (from kaggle) (4.64.0)\n",
            "Requirement already satisfied: requests in /usr/local/lib/python3.7/dist-packages (from kaggle) (2.23.0)\n",
            "Requirement already satisfied: python-slugify in /usr/local/lib/python3.7/dist-packages (from kaggle) (6.1.2)\n",
            "Requirement already satisfied: certifi in /usr/local/lib/python3.7/dist-packages (from kaggle) (2022.6.15)\n",
            "Requirement already satisfied: text-unidecode>=1.3 in /usr/local/lib/python3.7/dist-packages (from python-slugify->kaggle) (1.3)\n",
            "Requirement already satisfied: idna<3,>=2.5 in /usr/local/lib/python3.7/dist-packages (from requests->kaggle) (2.10)\n",
            "Requirement already satisfied: chardet<4,>=3.0.2 in /usr/local/lib/python3.7/dist-packages (from requests->kaggle) (3.0.4)\n"
          ]
        }
      ],
      "source": [
        "!pip install kaggle"
      ]
    },
    {
      "cell_type": "code",
      "source": [
        "import pandas as pd\n",
        "import numpy as np\n",
        "import tensorflow as tf\n",
        "import tensorflow_hub as hub\n",
        "import tensorflow_datasets as tfds\n",
        "import random\n",
        "from keras.preprocessing import image\n",
        "\n",
        "import matplotlib.image as mpimg\n",
        "import matplotlib.pyplot as plt"
      ],
      "metadata": {
        "id": "UaaLFOzf7FVE"
      },
      "execution_count": null,
      "outputs": []
    },
    {
      "cell_type": "code",
      "source": [
        "tf.config.list_physical_devices('GPU')"
      ],
      "metadata": {
        "colab": {
          "base_uri": "https://localhost:8080/"
        },
        "id": "R0me1nXj7HzU",
        "outputId": "97656404-d305-4c1d-a836-2776a1597b9d"
      },
      "execution_count": null,
      "outputs": [
        {
          "output_type": "execute_result",
          "data": {
            "text/plain": [
              "[]"
            ]
          },
          "metadata": {},
          "execution_count": 3
        }
      ]
    },
    {
      "cell_type": "markdown",
      "source": [
        "# Connect pada API Kaggle"
      ],
      "metadata": {
        "id": "-fd7S3Iumav2"
      }
    },
    {
      "cell_type": "code",
      "source": [
        "import os\n",
        "os.getcwd()\n",
        "os.environ['KAGGLE_CONFIG_DIR'] = '/content/gdrive/My Drive/Kaggle'"
      ],
      "metadata": {
        "id": "SQEvyDQn8HiT"
      },
      "execution_count": null,
      "outputs": []
    },
    {
      "cell_type": "markdown",
      "source": [
        "# Visualisasi Dataset\n",
        "\n"
      ],
      "metadata": {
        "id": "gzTrfShV-Lj8"
      }
    },
    {
      "cell_type": "code",
      "source": [
        "class_names = sorted(os.listdir('/content/dataset-non-rotten/train/'))\n",
        "print(class_names)"
      ],
      "metadata": {
        "colab": {
          "base_uri": "https://localhost:8080/"
        },
        "id": "LD0QhmeIYSKw",
        "outputId": "a3cf170b-8482-4dc0-a17f-a153fceb4517"
      },
      "execution_count": null,
      "outputs": [
        {
          "output_type": "stream",
          "name": "stdout",
          "text": [
            "['freshapples', 'freshbanana', 'freshlemon', 'freshoranges']\n"
          ]
        }
      ]
    },
    {
      "cell_type": "code",
      "source": [
        "def list_dir(class_names, slice='train'):\n",
        "  return os.listdir('/content/dataset-non-rotten/{}/{}'.format(slice, class_names))\n",
        "\n",
        "for i in class_names:\n",
        "  print(i)\n",
        "  print(len(list_dir(i, 'train')))\n",
        "  print(len(list_dir(i, 'test')))"
      ],
      "metadata": {
        "colab": {
          "base_uri": "https://localhost:8080/"
        },
        "id": "Fr6QuUxWYaiR",
        "outputId": "89888a26-b640-4122-8a52-c671f8ef79d5"
      },
      "execution_count": null,
      "outputs": [
        {
          "output_type": "stream",
          "name": "stdout",
          "text": [
            "freshapples\n",
            "1693\n",
            "395\n",
            "freshbanana\n",
            "1581\n",
            "381\n",
            "freshlemon\n",
            "396\n",
            "200\n",
            "freshoranges\n",
            "1566\n",
            "388\n"
          ]
        }
      ]
    },
    {
      "cell_type": "code",
      "source": [
        "%matplotlib inline\n",
        "\n",
        "nrows = 4\n",
        "ncols = 6\n",
        "pic_index = 0\n",
        "\n",
        "fig = plt.gcf()\n",
        "fig.set_size_inches(ncols*3, nrows*3)\n",
        "\n",
        "dirs = []\n",
        "\n",
        "for i in class_names:\n",
        "  path = '/content/dataset-non-rotten/train/{}/'.format(i)\n",
        "  dir = list_dir(i, 'train')\n",
        "  for fileName in dir[pic_index:pic_index+6]:\n",
        "    dirs.append(path+fileName)\n",
        "\n",
        "pic_index+=6\n",
        "\n",
        "for i, img_path in enumerate(dirs):\n",
        "  sp = plt.subplot(nrows, ncols, i+1)\n",
        "  sp.axis('Off')\n",
        "  img = mpimg.imread(img_path)\n",
        "  plt.imshow(img)\n",
        "\n",
        "plt.show()"
      ],
      "metadata": {
        "id": "jo4Dhxpy-KEX"
      },
      "execution_count": null,
      "outputs": []
    },
    {
      "cell_type": "markdown",
      "source": [
        "# Pembuatan Dataset Validasi"
      ],
      "metadata": {
        "id": "VAhtTpHszNte"
      }
    },
    {
      "cell_type": "code",
      "source": [
        "from shutil import copyfile\n",
        "\n",
        "try:\n",
        "  os.mkdir('/content/dataset-non-rotten/validation')\n",
        "except:\n",
        "  print('Folder already available')\n",
        "\n",
        "def create_validation(SOURCE, DEST, SPLIT_SIZE):\n",
        "    valid_data = []\n",
        "    for file in os.listdir(SOURCE):\n",
        "        filename = SOURCE + file\n",
        "        if os.path.getsize(filename) > 0:\n",
        "            valid_data.append(file)\n",
        "\n",
        "    train_size = int(SPLIT_SIZE * len(valid_data))\n",
        "    validation_size = int((1-SPLIT_SIZE) * len(valid_data))\n",
        "    randomized = random.sample(valid_data, len(valid_data))\n",
        "    training = randomized[:train_size]\n",
        "    testing = randomized[-(validation_size+1):]\n",
        "\n",
        "    for i in testing:\n",
        "        sourceFile = SOURCE + i\n",
        "        target = DEST + i\n",
        "        copyfile(sourceFile, target)\n",
        "        os.remove(sourceFile)\n",
        "\n",
        "SOURCE = '/content/dataset-non-rotten/train/'\n",
        "DEST = '/content/dataset-non-rotten/validation/'\n",
        "SPLIT_SIZE = 0.8\n",
        "\n",
        "for name in class_names:\n",
        "  src = SOURCE + name + '/'\n",
        "  trg = DEST + name + '/'\n",
        "  try:\n",
        "    os.mkdir(trg)\n",
        "  except:\n",
        "    print('Validation directory already exists')\n",
        "  create_validation(src, trg, SPLIT_SIZE)"
      ],
      "metadata": {
        "id": "29MP_Ofzzb1b"
      },
      "execution_count": null,
      "outputs": []
    },
    {
      "cell_type": "code",
      "source": [
        "for i in class_names:\n",
        "  print(i)\n",
        "  print(len(list_dir(i, 'train')))\n",
        "  print(len(list_dir(i, 'validation')))\n",
        "  print(len(list_dir(i, 'test')))"
      ],
      "metadata": {
        "colab": {
          "base_uri": "https://localhost:8080/"
        },
        "id": "kx-itUwOzmqO",
        "outputId": "f5a9c0e0-289f-4caa-9c32-4d63dd82e6d4"
      },
      "execution_count": null,
      "outputs": [
        {
          "output_type": "stream",
          "name": "stdout",
          "text": [
            "freshapples\n",
            "1354\n",
            "339\n",
            "395\n",
            "freshbanana\n",
            "1264\n",
            "317\n",
            "381\n",
            "freshlemon\n",
            "316\n",
            "80\n",
            "200\n",
            "freshoranges\n",
            "1252\n",
            "314\n",
            "388\n"
          ]
        }
      ]
    },
    {
      "cell_type": "markdown",
      "source": [
        "# Preprocessing"
      ],
      "metadata": {
        "id": "l5ZRUDTXcQoE"
      }
    },
    {
      "cell_type": "code",
      "source": [
        "from tensorflow.keras.preprocessing.image import ImageDataGenerator\n",
        "\n",
        "train_datagen = ImageDataGenerator(\n",
        "    rescale=1./255,\n",
        "    width_shift_range=0.1,\n",
        "    height_shift_range=0.1,\n",
        "    shear_range=0.1,\n",
        "    zoom_range=[0.5, 1.0],\n",
        "    fill_mode='nearest',\n",
        ")\n",
        "\n",
        "test_datagen = ImageDataGenerator(\n",
        "    rescale=1./255\n",
        ")\n",
        "\n",
        "validation_datagen = ImageDataGenerator(\n",
        "    rescale=1./255\n",
        ")\n",
        "\n",
        "test2_datagen = ImageDataGenerator(\n",
        "    rescale=1./255\n",
        ")\n",
        "\n",
        "test2grabcut_datagen = ImageDataGenerator(\n",
        "    rescale=1./255\n",
        ")\n",
        "\n",
        "train_dir = '/content/dataset-non-rotten/train/'\n",
        "test_dir = '/content/dataset-non-rotten/test/'\n",
        "validation_dir = '/content/dataset-non-rotten/validation/'\n",
        "test2_dir = '/content/dataset-non-rotten/dataset-gambar-nyata/'\n",
        "test2grabcut_dir = '/content/dataset-non-rotten/dataset-gambar-nyata-grabcut/'\n",
        "\n",
        "train_flow = train_datagen.flow_from_directory(\n",
        "    train_dir,\n",
        "    batch_size=64,\n",
        "    target_size=(224,224),\n",
        "    class_mode='categorical',\n",
        ")\n",
        "# validation_flow = validation_datagen.flow_from_directory(\n",
        "#     validation_dir,\n",
        "#     batch_size=32,\n",
        "#     target_size=(224,224),\n",
        "#     class_mode='categorical',\n",
        "# )\n",
        "test_flow = test_datagen.flow_from_directory(\n",
        "    test_dir,\n",
        "    batch_size=32,\n",
        "    target_size=(224,224),\n",
        "    shuffle=False,\n",
        "    class_mode='categorical',\n",
        ")\n",
        "test2_flow = test2_datagen.flow_from_directory(\n",
        "    test2_dir,\n",
        "    batch_size=32,\n",
        "    target_size=(224,224),\n",
        "    shuffle=False,\n",
        "    class_mode='categorical',\n",
        ")\n",
        "test2grabcut_flow = test2grabcut_datagen.flow_from_directory(\n",
        "    test2grabcut_dir,\n",
        "    batch_size=32,\n",
        "    target_size=(224,224),\n",
        "    shuffle=False,\n",
        "    class_mode='categorical',\n",
        ")"
      ],
      "metadata": {
        "colab": {
          "base_uri": "https://localhost:8080/"
        },
        "id": "UcsnzczqcP-M",
        "outputId": "410d8bf1-4dee-481f-beda-415bc45d2e23"
      },
      "execution_count": null,
      "outputs": [
        {
          "output_type": "stream",
          "name": "stdout",
          "text": [
            "Found 5236 images belonging to 4 classes.\n",
            "Found 1364 images belonging to 4 classes.\n",
            "Found 848 images belonging to 4 classes.\n",
            "Found 840 images belonging to 4 classes.\n"
          ]
        }
      ]
    },
    {
      "cell_type": "code",
      "source": [
        "# jumlah steps = jumlah gambar // batch_size\n",
        "train_steps = 4186  // 64\n",
        "val_steps = 1050  // 32\n",
        "test_steps = 1364  // 32\n",
        "test2_steps = 848 // 32\n",
        "test2grabcut_steps = 840 // 32"
      ],
      "metadata": {
        "id": "z_iyBPzlejxL"
      },
      "execution_count": null,
      "outputs": []
    },
    {
      "cell_type": "code",
      "source": [
        "train_flow.class_indices"
      ],
      "metadata": {
        "colab": {
          "base_uri": "https://localhost:8080/"
        },
        "id": "rJM-Zi2EmOE1",
        "outputId": "fae89cea-5537-4b21-d683-a45307b25bd0"
      },
      "execution_count": null,
      "outputs": [
        {
          "output_type": "execute_result",
          "data": {
            "text/plain": [
              "{'freshapples': 0, 'freshbanana': 1, 'freshlemon': 2, 'freshoranges': 3}"
            ]
          },
          "metadata": {},
          "execution_count": 13
        }
      ]
    },
    {
      "cell_type": "code",
      "source": [
        "from tensorflow.keras.preprocessing.image import ImageDataGenerator"
      ],
      "metadata": {
        "id": "Ivqxb5Nbqh8e"
      },
      "execution_count": null,
      "outputs": []
    },
    {
      "cell_type": "code",
      "source": [
        "test3_datagen = ImageDataGenerator(\n",
        "    rescale=1./255\n",
        ")\n",
        "\n",
        "test3_dir = '/content/dataset-non-rotten/dataset-gambar-nyata-grabcut-only/'\n",
        "test4_dir = '/content/dataset-non-rotten/dataset-gambar-nyata-gauscon/'\n",
        "\n",
        "test3_flow = test3_datagen.flow_from_directory(\n",
        "    test3_dir,\n",
        "    batch_size=32,\n",
        "    target_size=(224,224),\n",
        "    shuffle=False,\n",
        "    class_mode='categorical',\n",
        ")\n",
        "\n",
        "test4_flow = test3_datagen.flow_from_directory(\n",
        "    test4_dir,\n",
        "    batch_size=32,\n",
        "    target_size=(224,224),\n",
        "    shuffle=False,\n",
        "    class_mode='categorical',\n",
        ")"
      ],
      "metadata": {
        "colab": {
          "base_uri": "https://localhost:8080/"
        },
        "id": "H2QHWdTtqAyD",
        "outputId": "3f995f59-499d-4331-d4ad-f2006685cc45"
      },
      "execution_count": null,
      "outputs": [
        {
          "output_type": "stream",
          "name": "stdout",
          "text": [
            "Found 872 images belonging to 4 classes.\n",
            "Found 872 images belonging to 4 classes.\n"
          ]
        }
      ]
    },
    {
      "cell_type": "code",
      "source": [
        "# jumlah steps = jumlah gambar // batch_size\n",
        "test3_steps = 872 // 32\n",
        "test4_steps = 872 // 32"
      ],
      "metadata": {
        "id": "zCiNuh2Aqfup"
      },
      "execution_count": null,
      "outputs": []
    },
    {
      "cell_type": "markdown",
      "source": [
        "# Pembangunan Model"
      ],
      "metadata": {
        "id": "Vmne18on0Elb"
      }
    },
    {
      "cell_type": "code",
      "source": [
        "PRETRAINED_MODEL = 'https://tfhub.dev/google/imagenet/mobilenet_v3_large_100_224/feature_vector/5'\n",
        "IMAGE_SIZE = (224, 224, 3)\n",
        "OUTPUT_SHAPE = [1280]\n",
        "\n",
        "model = tf.keras.Sequential(\n",
        "    [\n",
        "     hub.KerasLayer(PRETRAINED_MODEL,\n",
        "                    input_shape=IMAGE_SIZE,\n",
        "                    output_shape=OUTPUT_SHAPE,\n",
        "                    trainable=False,\n",
        "                    ),\n",
        "     tf.keras.layers.Flatten(),\n",
        "     tf.keras.layers.Dense(units=512, activation='relu'),\n",
        "     tf.keras.layers.Dropout(0.2),\n",
        "     tf.keras.layers.Dense(units=64, activation='relu'),\n",
        "     tf.keras.layers.Dense(units=4, activation='softmax'),\n",
        "    ]\n",
        ")\n",
        "\n",
        "model.compile(optimizer=tf.keras.optimizers.Adam(learning_rate=0.0015),\n",
        "              loss='categorical_crossentropy',\n",
        "              metrics=['accuracy'])\n",
        "\n",
        "model.summary()"
      ],
      "metadata": {
        "colab": {
          "base_uri": "https://localhost:8080/"
        },
        "id": "UYTguPWP0JyA",
        "outputId": "e4b93d16-da50-4b98-c76e-776a5208161f"
      },
      "execution_count": null,
      "outputs": [
        {
          "output_type": "stream",
          "name": "stdout",
          "text": [
            "Model: \"sequential\"\n",
            "_________________________________________________________________\n",
            " Layer (type)                Output Shape              Param #   \n",
            "=================================================================\n",
            " keras_layer (KerasLayer)    (None, 1280)              4226432   \n",
            "                                                                 \n",
            " flatten (Flatten)           (None, 1280)              0         \n",
            "                                                                 \n",
            " dense (Dense)               (None, 512)               655872    \n",
            "                                                                 \n",
            " dropout (Dropout)           (None, 512)               0         \n",
            "                                                                 \n",
            " dense_1 (Dense)             (None, 64)                32832     \n",
            "                                                                 \n",
            " dense_2 (Dense)             (None, 4)                 260       \n",
            "                                                                 \n",
            "=================================================================\n",
            "Total params: 4,915,396\n",
            "Trainable params: 688,964\n",
            "Non-trainable params: 4,226,432\n",
            "_________________________________________________________________\n"
          ]
        }
      ]
    },
    {
      "cell_type": "markdown",
      "source": [
        "# Fungsi Callback"
      ],
      "metadata": {
        "id": "ADnSpSK7zPsg"
      }
    },
    {
      "cell_type": "code",
      "source": [
        "class myCallback(tf.keras.callbacks.Callback):\n",
        "  def on_epoch_end(self, epoch, logs={}):\n",
        "    if(logs.get('accuracy') > 0.990):\n",
        "      print('Target accuracy acquired!')\n",
        "      self.model.stop_training = True"
      ],
      "metadata": {
        "id": "MLNToYXrzPX0"
      },
      "execution_count": null,
      "outputs": []
    },
    {
      "cell_type": "markdown",
      "source": [
        "# Fitting Model"
      ],
      "metadata": {
        "id": "NkVWIDJ9zXdx"
      }
    },
    {
      "cell_type": "code",
      "source": [
        "callbacks = myCallback()\n",
        "history = model.fit(train_flow,\n",
        "                    epochs=15,\n",
        "                    verbose=1,\n",
        "                    validation_data=validation_flow,\n",
        "                    steps_per_epoch=train_steps,\n",
        "                    validation_steps=val_steps\n",
        "                    )"
      ],
      "metadata": {
        "colab": {
          "base_uri": "https://localhost:8080/"
        },
        "id": "qX2Kx5fGzbst",
        "outputId": "d9f241ca-4f24-4a50-c57d-bda6a00ae3bb"
      },
      "execution_count": null,
      "outputs": [
        {
          "output_type": "stream",
          "name": "stdout",
          "text": [
            "Epoch 1/15\n",
            "65/65 [==============================] - 184s 3s/step - loss: 0.0610 - accuracy: 0.9750 - val_loss: 0.0485 - val_accuracy: 0.9824\n",
            "Epoch 2/15\n",
            "65/65 [==============================] - 173s 3s/step - loss: 0.0254 - accuracy: 0.9920 - val_loss: 0.0158 - val_accuracy: 0.9912\n",
            "Epoch 3/15\n",
            "65/65 [==============================] - 171s 3s/step - loss: 0.0090 - accuracy: 0.9966 - val_loss: 0.0028 - val_accuracy: 0.9990\n",
            "Epoch 4/15\n",
            "65/65 [==============================] - 172s 3s/step - loss: 0.0044 - accuracy: 0.9988 - val_loss: 0.0104 - val_accuracy: 0.9961\n",
            "Epoch 5/15\n",
            "65/65 [==============================] - 170s 3s/step - loss: 0.0035 - accuracy: 0.9990 - val_loss: 3.7045e-04 - val_accuracy: 1.0000\n",
            "Epoch 6/15\n",
            "65/65 [==============================] - 172s 3s/step - loss: 0.0109 - accuracy: 0.9978 - val_loss: 8.3551e-04 - val_accuracy: 1.0000\n",
            "Epoch 7/15\n",
            "65/65 [==============================] - 172s 3s/step - loss: 0.0358 - accuracy: 0.9956 - val_loss: 0.0061 - val_accuracy: 0.9971\n",
            "Epoch 8/15\n",
            "65/65 [==============================] - 170s 3s/step - loss: 0.0080 - accuracy: 0.9971 - val_loss: 0.0226 - val_accuracy: 0.9912\n",
            "Epoch 9/15\n",
            "65/65 [==============================] - 171s 3s/step - loss: 0.0131 - accuracy: 0.9971 - val_loss: 0.0011 - val_accuracy: 0.9990\n",
            "Epoch 10/15\n",
            "65/65 [==============================] - 169s 3s/step - loss: 0.0119 - accuracy: 0.9961 - val_loss: 0.0032 - val_accuracy: 0.9990\n",
            "Epoch 11/15\n",
            "65/65 [==============================] - 170s 3s/step - loss: 0.0031 - accuracy: 0.9985 - val_loss: 0.0015 - val_accuracy: 0.9990\n",
            "Epoch 12/15\n",
            "65/65 [==============================] - 173s 3s/step - loss: 0.0020 - accuracy: 0.9993 - val_loss: 9.8124e-05 - val_accuracy: 1.0000\n",
            "Epoch 13/15\n",
            "65/65 [==============================] - 171s 3s/step - loss: 6.3512e-04 - accuracy: 0.9995 - val_loss: 6.9497e-04 - val_accuracy: 1.0000\n",
            "Epoch 14/15\n",
            "65/65 [==============================] - 171s 3s/step - loss: 0.0044 - accuracy: 0.9990 - val_loss: 0.0015 - val_accuracy: 0.9990\n",
            "Epoch 15/15\n",
            "65/65 [==============================] - 171s 3s/step - loss: 0.0019 - accuracy: 0.9993 - val_loss: 3.6177e-04 - val_accuracy: 1.0000\n"
          ]
        }
      ]
    },
    {
      "cell_type": "markdown",
      "source": [
        "# Load Weight"
      ],
      "metadata": {
        "id": "184pQgxXn3Y1"
      }
    },
    {
      "cell_type": "code",
      "source": [
        "%cd ../"
      ],
      "metadata": {
        "colab": {
          "base_uri": "https://localhost:8080/"
        },
        "id": "TQht4V0buOlN",
        "outputId": "85dd39cf-6561-4d11-8fad-3fa1594fea35"
      },
      "execution_count": null,
      "outputs": [
        {
          "output_type": "stream",
          "name": "stdout",
          "text": [
            "/content\n"
          ]
        }
      ]
    },
    {
      "cell_type": "code",
      "source": [
        "model.load_weights('fruit_classifier_weight.h5')"
      ],
      "metadata": {
        "id": "csqWz2dhn26d"
      },
      "execution_count": null,
      "outputs": []
    },
    {
      "cell_type": "markdown",
      "source": [
        "# Evaluasi Model"
      ],
      "metadata": {
        "id": "JcHfkbUQzZix"
      }
    },
    {
      "cell_type": "code",
      "source": [
        "acc = history.history['accuracy']\n",
        "val_acc = history.history['val_accuracy']\n",
        "\n",
        "loss = history.history['loss']\n",
        "val_loss = history.history['val_loss']\n",
        "\n",
        "epochs = range(len(acc))\n",
        "\n",
        "plt.plot(epochs, acc)\n",
        "plt.plot(epochs, val_acc)\n",
        "plt.title('Accuracy')"
      ],
      "metadata": {
        "id": "rV87Qq3azfm4",
        "colab": {
          "base_uri": "https://localhost:8080/",
          "height": 298
        },
        "outputId": "cad30f96-53e1-45d8-e018-7716bdf2b796"
      },
      "execution_count": null,
      "outputs": [
        {
          "output_type": "execute_result",
          "data": {
            "text/plain": [
              "Text(0.5, 1.0, 'Accuracy')"
            ]
          },
          "metadata": {},
          "execution_count": 22
        },
        {
          "output_type": "display_data",
          "data": {
            "text/plain": [
              "<Figure size 432x288 with 1 Axes>"
            ],
            "image/png": "[encoded data removed]"
          },
          "metadata": {
            "needs_background": "light"
          }
        }
      ]
    },
    {
      "cell_type": "code",
      "source": [
        "plt.plot(epochs, loss)\n",
        "plt.plot(epochs, val_loss)\n",
        "plt.title('Loss')"
      ],
      "metadata": {
        "id": "9QpvM8S49JQC",
        "colab": {
          "base_uri": "https://localhost:8080/",
          "height": 298
        },
        "outputId": "db437fff-f86f-483b-bc2e-edb1dc5cf09b"
      },
      "execution_count": null,
      "outputs": [
        {
          "output_type": "execute_result",
          "data": {
            "text/plain": [
              "Text(0.5, 1.0, 'Loss')"
            ]
          },
          "metadata": {},
          "execution_count": 23
        },
        {
          "output_type": "display_data",
          "data": {
            "text/plain": [
              "<Figure size 432x288 with 1 Axes>"
            ],
            "image/png": "[encoded data removed]"
          },
          "metadata": {
            "needs_background": "light"
          }
        }
      ]
    },
    {
      "cell_type": "code",
      "source": [
        "import pandas as pd\n",
        "\n",
        "hist_df = pd.DataFrame(history.history)\n",
        "\n",
        "hist_csv_file = 'history.csv'\n",
        "with open(hist_csv_file, mode='w') as f:\n",
        "    hist_df.to_csv(f)"
      ],
      "metadata": {
        "id": "-ktMMuDntN5k"
      },
      "execution_count": null,
      "outputs": []
    },
    {
      "cell_type": "code",
      "source": [
        "model.evaluate(test_flow, verbose=1)"
      ],
      "metadata": {
        "id": "w5WbcDnX7_Px",
        "colab": {
          "base_uri": "https://localhost:8080/"
        },
        "outputId": "e666dcd4-8d7c-466b-c78b-363ba9a35dac"
      },
      "execution_count": null,
      "outputs": [
        {
          "output_type": "stream",
          "name": "stdout",
          "text": [
            "43/43 [==============================] - 37s 846ms/step - loss: 0.0048 - accuracy: 0.9971\n"
          ]
        },
        {
          "output_type": "execute_result",
          "data": {
            "text/plain": [
              "[0.0047580162063241005, 0.9970674514770508]"
            ]
          },
          "metadata": {},
          "execution_count": 27
        }
      ]
    },
    {
      "cell_type": "code",
      "source": [
        "# test dengan dataset gambar kamera android\n",
        "model.evaluate(test2_flow, verbose=1)"
      ],
      "metadata": {
        "id": "s1xhrmCHAZe3",
        "colab": {
          "base_uri": "https://localhost:8080/"
        },
        "outputId": "366b8312-8677-4d76-9708-53dea54c8358"
      },
      "execution_count": null,
      "outputs": [
        {
          "output_type": "stream",
          "name": "stdout",
          "text": [
            "27/27 [==============================] - 22s 816ms/step - loss: 0.4379 - accuracy: 0.8892\n"
          ]
        },
        {
          "output_type": "execute_result",
          "data": {
            "text/plain": [
              "[0.43793660402297974, 0.8891509175300598]"
            ]
          },
          "metadata": {},
          "execution_count": 28
        }
      ]
    },
    {
      "cell_type": "code",
      "source": [
        "# test dengan dataset gambar kamera android setelah gaussian blur, peningkatan kontras dan GrabCut\n",
        "model.evaluate(test2grabcut_flow, verbose=1)"
      ],
      "metadata": {
        "id": "ZG4M9tWxAOvA",
        "colab": {
          "base_uri": "https://localhost:8080/"
        },
        "outputId": "643d922e-f45c-4222-dcda-1dcd72995d34"
      },
      "execution_count": null,
      "outputs": [
        {
          "output_type": "stream",
          "name": "stdout",
          "text": [
            "27/27 [==============================] - 21s 779ms/step - loss: 0.2718 - accuracy: 0.9238\n"
          ]
        },
        {
          "output_type": "execute_result",
          "data": {
            "text/plain": [
              "[0.2718011438846588, 0.9238095283508301]"
            ]
          },
          "metadata": {},
          "execution_count": 29
        }
      ]
    },
    {
      "cell_type": "code",
      "source": [
        "# test dengan dataset gambar kamera android setelah GrabCut\n",
        "model.evaluate(test3_flow, verbose=1)"
      ],
      "metadata": {
        "colab": {
          "base_uri": "https://localhost:8080/"
        },
        "id": "L438z6uiq_iY",
        "outputId": "2da6007c-86c2-42bd-87fe-2f19346c0b01"
      },
      "execution_count": null,
      "outputs": [
        {
          "output_type": "stream",
          "name": "stdout",
          "text": [
            "28/28 [==============================] - 22s 773ms/step - loss: 0.2162 - accuracy: 0.9278\n"
          ]
        },
        {
          "output_type": "execute_result",
          "data": {
            "text/plain": [
              "[0.21619461476802826, 0.9277523159980774]"
            ]
          },
          "metadata": {},
          "execution_count": 30
        }
      ]
    },
    {
      "cell_type": "code",
      "source": [
        "# test dengan dataset gambar kamera android setelah gaussian blur dan peningkatan kontras\n",
        "model.evaluate(test4_flow, verbose=1)"
      ],
      "metadata": {
        "colab": {
          "base_uri": "https://localhost:8080/"
        },
        "id": "N3YjKZRnrAa2",
        "outputId": "da708ad5-0597-4833-e98a-ba1a8bfe077f"
      },
      "execution_count": null,
      "outputs": [
        {
          "output_type": "stream",
          "name": "stdout",
          "text": [
            "28/28 [==============================] - 23s 804ms/step - loss: 1.3043 - accuracy: 0.7339\n"
          ]
        },
        {
          "output_type": "execute_result",
          "data": {
            "text/plain": [
              "[1.3042514324188232, 0.7339449524879456]"
            ]
          },
          "metadata": {},
          "execution_count": 31
        }
      ]
    },
    {
      "cell_type": "markdown",
      "source": [
        "# GrabCut"
      ],
      "metadata": {
        "id": "hMNaOVmQiNOH"
      }
    },
    {
      "cell_type": "code",
      "source": [
        "# import cv2\n",
        "\n",
        "# def grabcut(input):\n",
        "#   # input = cv2.cvtColor(input, cv2.COLOR_BGR2RGB)\n",
        "#   img_input = cv2.GaussianBlur(input, (5, 5), 0)\n",
        "\n",
        "#   alpha = 1.5\n",
        "#   beta = -50\n",
        "#   img_contrasted = cv2.convertScaleAbs(img_input, alpha=alpha, beta=beta)\n",
        "\n",
        "#   mask = np.zeros(img_contrasted.shape[:2],np.uint8)\n",
        "#   bgdModel = np.zeros((1,65), np.float64)\n",
        "#   fgdModel = np.zeros((1,65), np.float64)\n",
        "#   rect = (22, 22, 202, 202)\n",
        "#   cv2.grabCut(img_contrasted, mask, rect, bgdModel, fgdModel, 5, cv2.GC_INIT_WITH_RECT)\n",
        "#   mask2 = np.where((mask == 2)|(mask == 0), 0, 1).astype('uint8')\n",
        "#   img_cut = img_contrasted * mask2[:, :, np.newaxis]\n",
        "\n",
        "#   img_res = np.copy(img_cut)\n",
        "#   black_pixels = np.where(\n",
        "#     (img_res[:, :, 0] == 0) &\n",
        "#     (img_res[:, :, 1] == 0) &\n",
        "#     (img_res[:, :, 2] == 0)\n",
        "#   )\n",
        "\n",
        "#   img_res[black_pixels] = [255, 255, 255]\n",
        "\n",
        "#   # x_grabcut = np.expand_dims(img_res, axis=0)\n",
        "#   # x_grabcut = x_grabcut/255.0\n",
        "#   # cut_image = np.vstack([x_grabcut])\n",
        "#   return img_res"
      ],
      "metadata": {
        "id": "ojsFP0BRiMUt"
      },
      "execution_count": null,
      "outputs": []
    },
    {
      "cell_type": "markdown",
      "source": [
        "# Evaluasi Confusion Matrix"
      ],
      "metadata": {
        "id": "aiSJBNjunarj"
      }
    },
    {
      "cell_type": "code",
      "source": [
        "from sklearn.metrics import classification_report\n",
        "import seaborn as sns"
      ],
      "metadata": {
        "id": "9hros0l-zEUE"
      },
      "execution_count": null,
      "outputs": []
    },
    {
      "cell_type": "code",
      "source": [
        "test_steps_per_epoch = np.math.ceil(test_flow.samples / test_flow.batch_size)\n",
        "predictions = model.predict_generator(test_flow, steps=test_steps_per_epoch)\n",
        "predicted_classes = np.argmax(predictions, axis=1)\n",
        "true_classes = test_flow.classes\n",
        "class_labels = list(test_flow.class_indices.keys())\n",
        "report = classification_report(true_classes, predicted_classes, target_names=class_labels)\n",
        "print(report)\n",
        "res = tf.math.confusion_matrix(true_classes, predicted_classes, num_classes=4)"
      ],
      "metadata": {
        "colab": {
          "base_uri": "https://localhost:8080/"
        },
        "id": "cEkLK31AneJ1",
        "outputId": "bfa81358-2323-423f-8cd7-df8cb3d00615"
      },
      "execution_count": null,
      "outputs": [
        {
          "output_type": "stream",
          "name": "stderr",
          "text": [
            "/usr/local/lib/python3.7/dist-packages/ipykernel_launcher.py:5: UserWarning: `Model.predict_generator` is deprecated and will be removed in a future version. Please use `Model.predict`, which supports generators.\n",
            "  \"\"\"\n"
          ]
        },
        {
          "output_type": "stream",
          "name": "stdout",
          "text": [
            "              precision    recall  f1-score   support\n",
            "\n",
            " freshapples       1.00      1.00      1.00       395\n",
            " freshbanana       1.00      1.00      1.00       381\n",
            "  freshlemon       0.99      0.99      0.99       200\n",
            "freshoranges       1.00      0.99      1.00       388\n",
            "\n",
            "    accuracy                           1.00      1364\n",
            "   macro avg       1.00      1.00      1.00      1364\n",
            "weighted avg       1.00      1.00      1.00      1364\n",
            "\n"
          ]
        }
      ]
    },
    {
      "cell_type": "code",
      "source": [
        "ax = sns.heatmap(res.numpy(), annot=True, cmap='Blues', fmt='d')\n",
        "ax.set_xlabel('\\nPredicted Values')\n",
        "ax.set_ylabel('Actual Values ');\n",
        "\n",
        "plt.show()"
      ],
      "metadata": {
        "colab": {
          "base_uri": "https://localhost:8080/",
          "height": 291
        },
        "id": "57kdekzHFcJ7",
        "outputId": "1de1bc2a-8838-46db-8912-4d674a6ba1f1"
      },
      "execution_count": null,
      "outputs": [
        {
          "output_type": "display_data",
          "data": {
            "text/plain": [
              "<Figure size 432x288 with 2 Axes>"
            ],
            "image/png": "[encoded data removed]"
          },
          "metadata": {
            "needs_background": "light"
          }
        }
      ]
    },
    {
      "cell_type": "code",
      "source": [
        "test2_steps_per_epoch = np.math.ceil(test2_flow.samples / test2_flow.batch_size)\n",
        "predictions = model.predict_generator(test2_flow, steps=test2_steps_per_epoch)\n",
        "predicted_classes = np.argmax(predictions, axis=1)\n",
        "true_classes = test2_flow.classes\n",
        "class_labels = list(test2_flow.class_indices.keys())\n",
        "# print(predicted_classes)\n",
        "# print(true_classes)\n",
        "res = tf.math.confusion_matrix(true_classes, predicted_classes, num_classes=4)\n",
        "# report = classification_report(true_classes, predicted_classes, target_names=class_labels)\n",
        "# print(report)\n",
        "ax = sns.heatmap(res.numpy(), annot=True, cmap='Blues', fmt='d')\n",
        "ax.set_xlabel('\\nPredicted Values')\n",
        "ax.set_ylabel('Actual Values ');\n",
        "\n",
        "plt.show()"
      ],
      "metadata": {
        "colab": {
          "base_uri": "https://localhost:8080/",
          "height": 346
        },
        "id": "yF1aJxV8yekX",
        "outputId": "4ac63097-b721-4138-f4b3-c11564e3f3a3"
      },
      "execution_count": null,
      "outputs": [
        {
          "output_type": "stream",
          "name": "stderr",
          "text": [
            "/usr/local/lib/python3.7/dist-packages/ipykernel_launcher.py:2: UserWarning: `Model.predict_generator` is deprecated and will be removed in a future version. Please use `Model.predict`, which supports generators.\n",
            "  \n"
          ]
        },
        {
          "output_type": "display_data",
          "data": {
            "text/plain": [
              "<Figure size 432x288 with 2 Axes>"
            ],
            "image/png": "[encoded data removed]"
          },
          "metadata": {
            "needs_background": "light"
          }
        }
      ]
    },
    {
      "cell_type": "code",
      "source": [
        "all_preds = [[284, 0, 4, 0],[39, 167, 2, 12],[15, 0, 100, 5],[5, 0, 12, 203]]\n",
        "\n",
        "prec = []\n",
        "rec = []\n",
        "f1 = []\n",
        "\n",
        "for i in range(len(all_preds)):\n",
        "  tp = all_preds[i][i]\n",
        "  prec_div = sum([j[i] for j in all_preds])\n",
        "  rec_div = sum(all_preds[i])\n",
        "\n",
        "  prec_curr = tp/prec_div\n",
        "  rec_curr = tp/rec_div\n",
        "\n",
        "  prec.append(prec_curr)\n",
        "  rec.append(rec_curr)\n",
        "  f1.append(((2*prec_curr*rec_curr)/(prec_curr+rec_curr)))"
      ],
      "metadata": {
        "id": "V87Hm2iM03o8"
      },
      "execution_count": null,
      "outputs": []
    },
    {
      "cell_type": "code",
      "source": [
        "sum([j[0] for j in all_preds])"
      ],
      "metadata": {
        "colab": {
          "base_uri": "https://localhost:8080/"
        },
        "id": "ni7jmk864AxQ",
        "outputId": "50c43abe-ebb5-4c90-efaa-2dfd3a2bebfa"
      },
      "execution_count": null,
      "outputs": [
        {
          "output_type": "execute_result",
          "data": {
            "text/plain": [
              "343"
            ]
          },
          "metadata": {},
          "execution_count": 74
        }
      ]
    },
    {
      "cell_type": "code",
      "source": [
        "print(prec,\"\\n\",rec,\"\\n\",f1)"
      ],
      "metadata": {
        "colab": {
          "base_uri": "https://localhost:8080/"
        },
        "id": "E2Kgghsu3l5H",
        "outputId": "7c854304-6629-431a-e3bf-f4199fb78767"
      },
      "execution_count": null,
      "outputs": [
        {
          "output_type": "stream",
          "name": "stdout",
          "text": [
            "[0.8279883381924198, 1.0, 0.847457627118644, 0.9227272727272727] \n",
            " [0.9861111111111112, 0.759090909090909, 0.8333333333333334, 0.9227272727272727] \n",
            " [0.9001584786053883, 0.8630490956072351, 0.8403361344537815, 0.9227272727272727]\n"
          ]
        }
      ]
    },
    {
      "cell_type": "code",
      "source": [
        "test2grabcut_steps_per_epoch = np.math.ceil(test2grabcut_flow.samples / test2grabcut_flow.batch_size)\n",
        "predictions = model.predict_generator(test2grabcut_flow, steps=test2grabcut_steps_per_epoch)\n",
        "predicted_classes = np.argmax(predictions, axis=1)\n",
        "true_classes = test2grabcut_flow.classes\n",
        "class_labels = list(test2grabcut_flow.class_indices.keys())\n",
        "# print(predicted_classes)\n",
        "# print(true_classes)\n",
        "res = tf.math.confusion_matrix(true_classes, predicted_classes, num_classes=4)\n",
        "ax = sns.heatmap(res.numpy(), annot=True, cmap='Blues', fmt='d')\n",
        "ax.set_xlabel('\\nPredicted Values')\n",
        "ax.set_ylabel('Actual Values ');\n",
        "\n",
        "plt.show()"
      ],
      "metadata": {
        "colab": {
          "base_uri": "https://localhost:8080/",
          "height": 346
        },
        "id": "VvJdzIXP0uGK",
        "outputId": "3c126d22-6835-487d-c0df-3aab213d3898"
      },
      "execution_count": null,
      "outputs": [
        {
          "output_type": "stream",
          "name": "stderr",
          "text": [
            "/usr/local/lib/python3.7/dist-packages/ipykernel_launcher.py:2: UserWarning: `Model.predict_generator` is deprecated and will be removed in a future version. Please use `Model.predict`, which supports generators.\n",
            "  \n"
          ]
        },
        {
          "output_type": "display_data",
          "data": {
            "text/plain": [
              "<Figure size 432x288 with 2 Axes>"
            ],
            "image/png": "[encoded data removed]"
          },
          "metadata": {
            "needs_background": "light"
          }
        }
      ]
    },
    {
      "cell_type": "code",
      "source": [
        "all_preds = [[268, 0, 14, 0],[1, 216, 1, 2],[17, 0, 83, 18],[7, 0, 4, 209]]\n",
        "\n",
        "prec = []\n",
        "rec = []\n",
        "f1 = []\n",
        "\n",
        "for i in range(len(all_preds)):\n",
        "  tp = all_preds[i][i]\n",
        "  prec_div = sum([j[i] for j in all_preds])\n",
        "  rec_div = sum(all_preds[i])\n",
        "\n",
        "  prec_curr = tp/prec_div\n",
        "  rec_curr = tp/rec_div\n",
        "\n",
        "  prec.append(prec_curr)\n",
        "  rec.append(rec_curr)\n",
        "  f1.append(((2*prec_curr*rec_curr)/(prec_curr+rec_curr)))"
      ],
      "metadata": {
        "id": "So7I4LWo8I0i"
      },
      "execution_count": null,
      "outputs": []
    },
    {
      "cell_type": "code",
      "source": [
        "print(prec,\"\\n\",rec,\"\\n\",f1)"
      ],
      "metadata": {
        "colab": {
          "base_uri": "https://localhost:8080/"
        },
        "id": "LyfN-fkN8Q2i",
        "outputId": "01b55f96-acce-4c20-ab37-89329a261204"
      },
      "execution_count": null,
      "outputs": [
        {
          "output_type": "stream",
          "name": "stdout",
          "text": [
            "[0.9146757679180887, 1.0, 0.8137254901960784, 0.9126637554585153] \n",
            " [0.950354609929078, 0.9818181818181818, 0.7033898305084746, 0.95] \n",
            " [0.9321739130434782, 0.9908256880733944, 0.7545454545454545, 0.9309576837416481]\n"
          ]
        }
      ]
    },
    {
      "cell_type": "code",
      "source": [
        "res.numpy().shape"
      ],
      "metadata": {
        "id": "rayKnPpfCzky",
        "colab": {
          "base_uri": "https://localhost:8080/"
        },
        "outputId": "bb811217-e433-4af9-af05-3d84380bdb56"
      },
      "execution_count": null,
      "outputs": [
        {
          "output_type": "execute_result",
          "data": {
            "text/plain": [
              "(4, 4)"
            ]
          },
          "metadata": {},
          "execution_count": 39
        }
      ]
    },
    {
      "cell_type": "code",
      "source": [
        "test3_steps_per_epoch = np.math.ceil(test3_flow.samples / test3_flow.batch_size)\n",
        "predictions = model.predict_generator(test3_flow, steps=test3_steps_per_epoch)\n",
        "predicted_classes = np.argmax(predictions, axis=1)\n",
        "true_classes = test3_flow.classes\n",
        "class_labels = list(test2grabcut_flow.class_indices.keys())\n",
        "# print(predicted_classes)\n",
        "# print(true_classes)\n",
        "res = tf.math.confusion_matrix(true_classes, predicted_classes, num_classes=4)\n",
        "ax = sns.heatmap(res.numpy(), annot=True, cmap='Blues', fmt='d')\n",
        "ax.set_xlabel('\\nPredicted Values')\n",
        "ax.set_ylabel('Actual Values ');\n",
        "\n",
        "plt.show()"
      ],
      "metadata": {
        "colab": {
          "base_uri": "https://localhost:8080/",
          "height": 346
        },
        "id": "tRXuC1Ytyrij",
        "outputId": "82e648ce-7049-45bf-d977-fc9e62c8a077"
      },
      "execution_count": null,
      "outputs": [
        {
          "output_type": "stream",
          "name": "stderr",
          "text": [
            "/usr/local/lib/python3.7/dist-packages/ipykernel_launcher.py:2: UserWarning: `Model.predict_generator` is deprecated and will be removed in a future version. Please use `Model.predict`, which supports generators.\n",
            "  \n"
          ]
        },
        {
          "output_type": "display_data",
          "data": {
            "text/plain": [
              "<Figure size 432x288 with 2 Axes>"
            ],
            "image/png": "[encoded data removed]"
          },
          "metadata": {
            "needs_background": "light"
          }
        }
      ]
    },
    {
      "cell_type": "code",
      "source": [
        "all_preds = [[255, 0, 33, 0],[2, 203, 12, 3],[5, 0, 134, 5],[2, 0, 1, 217]]\n",
        "\n",
        "prec = []\n",
        "rec = []\n",
        "f1 = []\n",
        "\n",
        "for i in range(len(all_preds)):\n",
        "  tp = all_preds[i][i]\n",
        "  prec_div = sum([j[i] for j in all_preds])\n",
        "  rec_div = sum(all_preds[i])\n",
        "\n",
        "  prec_curr = tp/prec_div\n",
        "  rec_curr = tp/rec_div\n",
        "\n",
        "  prec.append(prec_curr)\n",
        "  rec.append(rec_curr)\n",
        "  f1.append(((2*prec_curr*rec_curr)/(prec_curr+rec_curr)))\n",
        "\n",
        "print(prec,\"\\n\",rec,\"\\n\",f1)"
      ],
      "metadata": {
        "colab": {
          "base_uri": "https://localhost:8080/"
        },
        "id": "le0qnT1R0w7I",
        "outputId": "52339971-768d-43ea-ad05-355f2b780f0e"
      },
      "execution_count": null,
      "outputs": [
        {
          "output_type": "stream",
          "name": "stdout",
          "text": [
            "[0.9659090909090909, 1.0, 0.7444444444444445, 0.9644444444444444] \n",
            " [0.8854166666666666, 0.9227272727272727, 0.9305555555555556, 0.9863636363636363] \n",
            " [0.9239130434782609, 0.9598108747044917, 0.8271604938271605, 0.9752808988764046]\n"
          ]
        }
      ]
    },
    {
      "cell_type": "code",
      "source": [
        "test4_steps_per_epoch = np.math.ceil(test4_flow.samples / test4_flow.batch_size)\n",
        "predictions = model.predict_generator(test4_flow, steps=test4_steps_per_epoch)\n",
        "predicted_classes = np.argmax(predictions, axis=1)\n",
        "true_classes = test4_flow.classes\n",
        "class_labels = list(test4_flow.class_indices.keys())\n",
        "# print(predicted_classes)\n",
        "# print(true_classes)\n",
        "res = tf.math.confusion_matrix(true_classes, predicted_classes, num_classes=4)\n",
        "ax = sns.heatmap(res.numpy(), annot=True, cmap='Blues', fmt='d')\n",
        "ax.set_xlabel('\\nPredicted Values')\n",
        "ax.set_ylabel('Actual Values ');\n",
        "\n",
        "plt.show()"
      ],
      "metadata": {
        "colab": {
          "base_uri": "https://localhost:8080/",
          "height": 346
        },
        "id": "lHouxdP00IOV",
        "outputId": "041cb3e8-0ef4-4b15-8466-057fa772ef2c"
      },
      "execution_count": null,
      "outputs": [
        {
          "output_type": "stream",
          "name": "stderr",
          "text": [
            "/usr/local/lib/python3.7/dist-packages/ipykernel_launcher.py:2: UserWarning: `Model.predict_generator` is deprecated and will be removed in a future version. Please use `Model.predict`, which supports generators.\n",
            "  \n"
          ]
        },
        {
          "output_type": "display_data",
          "data": {
            "text/plain": [
              "<Figure size 432x288 with 2 Axes>"
            ],
            "image/png": "[encoded data removed]"
          },
          "metadata": {
            "needs_background": "light"
          }
        }
      ]
    },
    {
      "cell_type": "code",
      "source": [
        "all_preds = [[273, 0, 3, 12],[44, 174, 0, 2],[31, 0, 32, 81],[59, 0, 0, 161]]\n",
        "\n",
        "prec = []\n",
        "rec = []\n",
        "f1 = []\n",
        "\n",
        "for i in range(len(all_preds)):\n",
        "  tp = all_preds[i][i]\n",
        "  prec_div = sum([j[i] for j in all_preds])\n",
        "  rec_div = sum(all_preds[i])\n",
        "\n",
        "  prec_curr = tp/prec_div\n",
        "  rec_curr = tp/rec_div\n",
        "\n",
        "  prec.append(prec_curr)\n",
        "  rec.append(rec_curr)\n",
        "  f1.append(((2*prec_curr*rec_curr)/(prec_curr+rec_curr)))\n",
        "\n",
        "print(prec,\"\\n\",rec,\"\\n\",f1)"
      ],
      "metadata": {
        "colab": {
          "base_uri": "https://localhost:8080/"
        },
        "id": "2ncDqbTo1V5m",
        "outputId": "db6fc9cb-ce44-4ecb-87ed-db63e03e55a0"
      },
      "execution_count": null,
      "outputs": [
        {
          "output_type": "stream",
          "name": "stdout",
          "text": [
            "[0.6707616707616708, 1.0, 0.9142857142857143, 0.62890625] \n",
            " [0.9479166666666666, 0.7909090909090909, 0.2222222222222222, 0.7318181818181818] \n",
            " [0.785611510791367, 0.883248730964467, 0.35754189944134074, 0.676470588235294]\n"
          ]
        }
      ]
    },
    {
      "cell_type": "markdown",
      "source": [
        "# Simpan Weight"
      ],
      "metadata": {
        "id": "zfjURkLHvlu_"
      }
    },
    {
      "cell_type": "code",
      "source": [
        "model.save_weights('fruit_classifier_weight.h5')"
      ],
      "metadata": {
        "id": "7YfdanKrvnbM"
      },
      "execution_count": null,
      "outputs": []
    }
  ]
}